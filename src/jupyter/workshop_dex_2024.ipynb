{
 "cells": [
  {
   "metadata": {},
   "cell_type": "markdown",
   "source": "# Grocery list generator functions\n",
   "id": "136e00d4d6fc80e"
  },
  {
   "cell_type": "code",
   "id": "initial_id",
   "metadata": {
    "collapsed": true,
    "ExecuteTime": {
     "end_time": "2024-09-27T12:30:26.744770Z",
     "start_time": "2024-09-27T12:30:26.736320Z"
    }
   },
   "source": "# Create your method here\n",
   "outputs": [],
   "execution_count": 31
  },
  {
   "metadata": {},
   "cell_type": "markdown",
   "source": "# Mock data for Meal Plan, Recipes, and Pantry",
   "id": "8b05cba49224dd8b"
  },
  {
   "metadata": {
    "ExecuteTime": {
     "end_time": "2024-09-27T12:30:26.783801Z",
     "start_time": "2024-09-27T12:30:26.771828Z"
    }
   },
   "cell_type": "code",
   "source": [
    "meal_plan = [\n",
    "    {\"weekday\": \"Monday\", \"recipy\": \"Pasta Carbonara\", \"persons\": 4},\n",
    "    {\"weekday\": \"Tuesday\", \"recipy\": \"Sweet Patato Curry\", \"persons\": 3},\n",
    "    {\"weekday\": \"Wednesday\", \"recipy\": \"Kale Stew\", \"persons\": 4},\n",
    "    {\"weekday\": \"Thursday\", \"recipy\": \"Pasta Chicken Pesto\", \"persons\": 2},\n",
    "    {\"weekday\": \"Friday\", \"recipy\": \"Burritos\", \"persons\": 4},\n",
    "    {\"weekday\": \"Saturday\", \"recipy\": \"Pancakes\", \"persons\": 2},\n",
    "    {\"weekday\": \"Sunday\", \"recipy\": \"Beef Stew\", \"persons\": 2},\n",
    "]\n",
    "\n",
    "recipies = {\n",
    "    \"Pasta Carbonara\": {\n",
    "        \"Pancetta (g)\": 50,\n",
    "        \"Pecorino Cheese (g)\": 25,\n",
    "        \"Parmesan Cheese (g)\": 25,\n",
    "        \"Eggs\": 1,\n",
    "        \"Spaghetti (g)\": 100,\n",
    "        \"Garlic Cloves\": 0.5,\n",
    "        \"Unsalted Butter (g)\": 25,\n",
    "        \"Salt (g)\": 1,\n",
    "        \"Pepper (g)\": 1,\n",
    "    },\n",
    "    \"Sweet Potato Curry\": {\n",
    "        \"Sweet Potato (g)\": 150,\n",
    "        \"Coconut Milk (ml)\": 100,\n",
    "        \"Red Curry Paste (g)\": 20,\n",
    "        \"Chickpeas (g)\": 50,\n",
    "        \"Onion\": 0.5,\n",
    "        \"Garlic Cloves\": 1,\n",
    "        \"Ginger (g)\": 5,\n",
    "        \"Spinach (g)\": 50,\n",
    "        \"Vegetable Oil (ml)\": 10,\n",
    "        \"Salt (g)\": 1,\n",
    "        \"Pepper (g)\": 1,\n",
    "    },\n",
    "    \"Kale Stew\": {\n",
    "        \"Kale (g)\": 150,\n",
    "        \"Potatoes (g)\": 200,\n",
    "        \"Smoked Sausage (g)\": 75,\n",
    "        \"Onion\": 0.5,\n",
    "        \"Garlic Cloves\": 1,\n",
    "        \"Butter (g)\": 20,\n",
    "        \"Milk (ml)\": 50,\n",
    "        \"Salt (g)\": 1,\n",
    "        \"Pepper (g)\": 1,\n",
    "    },\n",
    "    \"Pasta Chicken Pesto\": {\n",
    "        \"Chicken Breast (g)\": 100,\n",
    "        \"Pasta (g)\": 100,\n",
    "        \"Pesto (g)\": 30,\n",
    "        \"Parmesan Cheese (g)\": 20,\n",
    "        \"Cherry Tomatoes\": 4,\n",
    "        \"Olive Oil (ml)\": 10,\n",
    "        \"Garlic Cloves\": 1,\n",
    "        \"Salt (g)\": 1,\n",
    "        \"Pepper (g)\": 1,\n",
    "    },\n",
    "    \"Burritos\": {\n",
    "        \"Tortilla Wraps\": 1,\n",
    "        \"Ground Beef (g)\": 100,\n",
    "        \"Black Beans (g)\": 50,\n",
    "        \"Cheddar Cheese (g)\": 30,\n",
    "        \"Sour Cream (g)\": 20,\n",
    "        \"Lettuce (g)\": 30,\n",
    "        \"Tomato\": 0.5,\n",
    "        \"Onion\": 0.5,\n",
    "        \"Garlic Cloves\": 1,\n",
    "        \"Olive Oil (ml)\": 10,\n",
    "        \"Salt (g)\": 1,\n",
    "        \"Pepper (g)\": 1,\n",
    "    },\n",
    "    \"Pancakes\": {\n",
    "        \"Flour (g)\": 100,\n",
    "        \"Milk (ml)\": 150,\n",
    "        \"Eggs\": 1,\n",
    "        \"Butter (g)\": 25,\n",
    "        \"Sugar (g)\": 10,\n",
    "        \"Salt (g)\": 1,\n",
    "    },\n",
    "    \"Beef Stew\": {\n",
    "        \"Beef (g)\": 150,\n",
    "        \"Potatoes (g)\": 100,\n",
    "        \"Carrots (g)\": 50,\n",
    "        \"Onion\": 0.5,\n",
    "        \"Garlic Cloves\": 1,\n",
    "        \"Tomato Paste (g)\": 20,\n",
    "        \"Beef Broth (ml)\": 150,\n",
    "        \"Olive Oil (ml)\": 10,\n",
    "        \"Thyme (g)\": 1,\n",
    "        \"Bay Leaf\": 1,\n",
    "        \"Salt (g)\": 1,\n",
    "        \"Pepper (g)\": 1,\n",
    "    }\n",
    "}\n",
    "\n",
    "pantry = {\n",
    "    \"Pancetta (g)\": 100,\n",
    "    \"Parmesan Cheese (g)\": 20,\n",
    "    \"Eggs\": 2,\n",
    "    \"Spaghetti (g)\": 200,\n",
    "}\n"
   ],
   "id": "ebb3e6dbc22d9ebe",
   "outputs": [],
   "execution_count": 32
  },
  {
   "metadata": {},
   "cell_type": "markdown",
   "source": "# Tests (without pytest)",
   "id": "d488c70d749285aa"
  },
  {
   "metadata": {
    "ExecuteTime": {
     "end_time": "2024-09-27T12:30:26.796826Z",
     "start_time": "2024-09-27T12:30:26.786759Z"
    }
   },
   "cell_type": "code",
   "source": [
    "# Simple test for grocery_list_generator\n",
    "\n",
    "expected_grocery_list = {\n",
    "        \"Pancetta (g)\": 200,\n",
    "        \"Pecorino Cheese (g)\": 100,\n",
    "        \"Parmesan Cheese (g)\": 140,\n",
    "        \"Eggs\": 6,\n",
    "        \"Spaghetti (g)\": 400,\n",
    "        \"Garlic Cloves\": 14.0,\n",
    "        \"Unsalted Butter (g)\": 100,\n",
    "        \"Salt (g)\": 18,\n",
    "        \"Pepper (g)\": 16,\n",
    "        \"Kale (g)\": 600,\n",
    "        \"Potatoes (g)\": 1000,\n",
    "        \"Smoked Sausage (g)\": 300,\n",
    "        \"Onion\": 5.0,\n",
    "        \"Butter (g)\": 130,\n",
    "        \"Milk (ml)\": 500,\n",
    "        \"Chicken Breast (g)\": 200,\n",
    "        \"Pasta (g)\": 200,\n",
    "        \"Pesto (g)\": 60,\n",
    "        \"Cherry Tomatoes\": 8,\n",
    "        \"Olive Oil (ml)\": 80,\n",
    "        \"Tortilla Wraps\": 4,\n",
    "        \"Ground Beef (g)\": 400,\n",
    "        \"Black Beans (g)\": 200,\n",
    "        \"Cheddar Cheese (g)\": 120,\n",
    "        \"Sour Cream (g)\": 80,\n",
    "        \"Lettuce (g)\": 120,\n",
    "        \"Tomato\": 2.0,\n",
    "        \"Flour (g)\": 200,\n",
    "        \"Sugar (g)\": 20,\n",
    "        \"Beef (g)\": 300,\n",
    "        \"Carrots (g)\": 100,\n",
    "        \"Tomato Paste (g)\": 40,\n",
    "        \"Beef Broth (ml)\": 300,\n",
    "        \"Thyme (g)\": 2,\n",
    "        \"Bay Leaf\": 2,\n",
    "    }\n",
    "\n",
    "# Pytest does not work in Jupyter, you can use the test below.\n",
    "grocery_list = grocery_list_generator(meal_plan, recipies)\n",
    "assert grocery_list == expected_grocery_list, \"Test Failed: Grocery list does not match expected values.\"\n",
    "print(\"Test Passed: Grocery list matches expected values.\")\n"
   ],
   "id": "bd0ce9002bcc17fa",
   "outputs": [
    {
     "name": "stdout",
     "output_type": "stream",
     "text": [
      "Test Passed: Grocery list matches expected values.\n"
     ]
    }
   ],
   "execution_count": 33
  },
  {
   "metadata": {},
   "cell_type": "markdown",
   "source": "# Bonus",
   "id": "e7a8a2d8c16950bb"
  },
  {
   "metadata": {
    "ExecuteTime": {
     "end_time": "2024-09-27T12:30:26.809294Z",
     "start_time": "2024-09-27T12:30:26.798840Z"
    }
   },
   "cell_type": "code",
   "source": "# Make bonus question here",
   "id": "e794832b34e1c50d",
   "outputs": [],
   "execution_count": 34
  },
  {
   "metadata": {
    "ExecuteTime": {
     "end_time": "2024-09-27T12:30:26.820260Z",
     "start_time": "2024-09-27T12:30:26.811303Z"
    }
   },
   "cell_type": "code",
   "source": [
    "expected_grocery_list_bonus = {\n",
    "        \"Pancetta (g)\": 100,\n",
    "        \"Pecorino Cheese (g)\": 100,\n",
    "        \"Parmesan Cheese (g)\": 20,\n",
    "        \"Eggs\": 2,\n",
    "        \"Spaghetti (g)\": 200,\n",
    "        \"Garlic Cloves\": 2,\n",
    "        \"Unsalted Butter (g)\": 100,\n",
    "        \"Salt (g)\": 2,\n",
    "        \"Pepper (g)\": 2,\n",
    "        \"Kale (g)\": 600,\n",
    "        \"Potatoes (g)\": 200,\n",
    "        \"Smoked Sausage (g)\": 300,\n",
    "        \"Onion\": 1.0,\n",
    "        \"Butter (g)\": 50,\n",
    "        \"Milk (ml)\": 300,\n",
    "        \"Chicken Breast (g)\": 200,\n",
    "        \"Pasta (g)\": 200,\n",
    "        \"Pesto (g)\": 60,\n",
    "        \"Cherry Tomatoes\": 8,\n",
    "        \"Olive Oil (ml)\": 20,\n",
    "        \"Tortilla Wraps\": 4,\n",
    "        \"Ground Beef (g)\": 400,\n",
    "        \"Black Beans (g)\": 200,\n",
    "        \"Cheddar Cheese (g)\": 120,\n",
    "        \"Sour Cream (g)\": 80,\n",
    "        \"Lettuce (g)\": 120,\n",
    "        \"Tomato\": 2.0,\n",
    "        \"Flour (g)\": 200,\n",
    "        \"Sugar (g)\": 20,\n",
    "        \"Beef (g)\": 300,\n",
    "        \"Carrots (g)\": 100,\n",
    "        \"Tomato Paste (g)\": 40,\n",
    "        \"Beef Broth (ml)\": 300,\n",
    "        \"Thyme (g)\": 2,\n",
    "        \"Bay Leaf\": 2,\n",
    "    }"
   ],
   "id": "6f74f60ae4e987e4",
   "outputs": [],
   "execution_count": 35
  },
  {
   "metadata": {
    "ExecuteTime": {
     "end_time": "2024-09-27T12:30:26.830205Z",
     "start_time": "2024-09-27T12:30:26.823275Z"
    }
   },
   "cell_type": "code",
   "source": [
    "grocery_list_bonus = grocery_list_generator_bonus(meal_plan, recipies, pantry)\n",
    "assert grocery_list_bonus == expected_grocery_list_bonus, \"Test Failed: Grocery list with pantry does not match expected values.\"\n",
    "print(\"Test Passed: Grocery list with pantry matches expected values.\")\n"
   ],
   "id": "1b0269975fe454b5",
   "outputs": [
    {
     "name": "stdout",
     "output_type": "stream",
     "text": [
      "Test Passed: Grocery list with pantry matches expected values.\n"
     ]
    }
   ],
   "execution_count": 36
  }
 ],
 "metadata": {
  "kernelspec": {
   "display_name": "Python 3",
   "language": "python",
   "name": "python3"
  },
  "language_info": {
   "codemirror_mode": {
    "name": "ipython",
    "version": 2
   },
   "file_extension": ".py",
   "mimetype": "text/x-python",
   "name": "python",
   "nbconvert_exporter": "python",
   "pygments_lexer": "ipython2",
   "version": "2.7.6"
  }
 },
 "nbformat": 4,
 "nbformat_minor": 5
}
